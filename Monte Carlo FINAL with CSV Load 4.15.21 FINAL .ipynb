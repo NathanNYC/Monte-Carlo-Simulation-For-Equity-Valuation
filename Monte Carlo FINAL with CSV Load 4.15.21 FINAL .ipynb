{
 "cells": [
  {
   "cell_type": "code",
   "execution_count": 14,
   "metadata": {},
   "outputs": [
    {
     "data": {
      "image/png": "[encoded data removed]",
      "text/plain": [
       "<Figure size 432x288 with 1 Axes>"
      ]
     },
     "metadata": {
      "needs_background": "light"
     },
     "output_type": "display_data"
    }
   ],
   "source": [
    "#Take DCF outputs and run them through a Monte Carlo simulation \n",
    "#Basically draws a normal distribution around the conclusion \n",
    "#Starting point should be discounted, PoS-adjusted free cash flows from the model \n",
    "\n",
    "import numpy as np\n",
    "import pandas as pd \n",
    "import math \n",
    "import matplotlib.pyplot as plt \n",
    "import csv \n",
    "\n",
    "\n",
    "\n",
    "x=1\n",
    "year=2021\n",
    "year2=year\n",
    "iterations=10000\n",
    "years=[year]\n",
    "FCFList=[]\n",
    "finalList=[]\n",
    "df = pd.DataFrame(columns=years)\n",
    "FCFcounter=0\n",
    "DiscountCounter=1\n",
    "DiscountRate=0.2\n",
    "TerminalGrowth=0.02\n",
    "TerminalList=[]\n",
    "sharecount=21.16#8240\n",
    "FCFList=pd.read_csv('C:/Users/nsw26/Desktop/imuxfcf.csv') \n",
    "FCFList = [float(i) for i in FCFList]\n",
    "FCFList=[i/1000000 for i in FCFList]\n",
    "#print(FCFList)\n",
    "\n",
    "#HowMany=int(input(\"How many years (NOT TOO BIG)?\"))\n",
    "\n",
    "for x in FCFList:\n",
    "    FCF = np.random.normal(loc=x,scale=4, size=iterations)\n",
    "    #np.random.normal(loc=mean, scale=standard deviation,size=# of sims to run)\n",
    "    #FCF=np.around(FCF)\n",
    "    #DiscountedFCF=FCF/((1+DiscountRate)**DiscountCounter)#discount the FCFs\n",
    "    #DiscountedFCF=np.around(DiscountedFCF)\n",
    "    finalList.append(FCF)#append the discounted FCFs\n",
    "    DiscountCounter+=1\n",
    "       \n",
    "for thing in finalList:\n",
    "    df[year]=thing\n",
    "    year+=1\n",
    "\n",
    "#FinalYear=year+HowMany\n",
    "FinalList = list(df[df.columns[-1]])\n",
    "#print(FinalList)\n",
    "\n",
    "for val in FinalList:\n",
    "    TerminalVal=(val*(1+TerminalGrowth))/(DiscountRate-TerminalGrowth)\n",
    "    #TerminalVal=round(TerminalVal,1)\n",
    "    TerminalList.append(TerminalVal)\n",
    "\n",
    "#print(TerminalList)\n",
    "\n",
    "df['Terminal']=TerminalList\n",
    "df[\"FinalValue\"] = df.sum(axis=1)/sharecount #sums columns, divides by share count\n",
    "\n",
    "\n",
    "#plt.hist(df[\"sum\"],bins=75) \n",
    "#plt.show()\n",
    "#print(df.head())\n",
    "\n",
    "plt.hist(df[\"FinalValue\"], bins='auto', color='blue')\n",
    "plt.xlabel('Share Value')\n",
    "plt.ylabel('Frequency')\n",
    "plt.title('Monte Carlo Simulation: DCF Valuation')\n",
    "plt.show()"
   ]
  }
 ],
 "metadata": {
  "kernelspec": {
   "display_name": "Python 3",
   "language": "python",
   "name": "python3"
  },
  "language_info": {
   "codemirror_mode": {
    "name": "ipython",
    "version": 3
   },
   "file_extension": ".py",
   "mimetype": "text/x-python",
   "name": "python",
   "nbconvert_exporter": "python",
   "pygments_lexer": "ipython3",
   "version": "3.7.0"
  }
 },
 "nbformat": 4,
 "nbformat_minor": 2
}
